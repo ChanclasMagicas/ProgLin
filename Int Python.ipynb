{
 "cells": [
  {
   "cell_type": "code",
   "execution_count": 3,
   "metadata": {},
   "outputs": [
    {
     "name": "stdout",
     "output_type": "stream",
     "text": [
      "[1000, 1010.0, 1020.1, 1030.301, 1040.60401, 1051.0100501, 1061.5201506009998, 1072.1353521070098, 1082.85670562808, 1093.6852726843608, 1104.6221254112045]\n"
     ]
    }
   ],
   "source": [
    "x=[1000]\n",
    "for i in range(10):\n",
    "    x.append(1.01*x[i])  \n",
    "print(x)"
   ]
  },
  {
   "cell_type": "code",
   "execution_count": 5,
   "metadata": {},
   "outputs": [
    {
     "name": "stdout",
     "output_type": "stream",
     "text": [
      "El primer elemento es 4\n",
      "El siguiente número es: 15\n",
      "El siguiente número es: 7\n",
      "El siguiente número es: -3\n",
      "El siguiente número es: 16\n",
      "El último número es: 6\n"
     ]
    }
   ],
   "source": [
    "y=[4,15,7,-3,16,6]\n",
    "print(\"El primer elemento es\",y[0])\n",
    "for i in range(4):\n",
    "    print(\"El siguiente número es:\",y[i+1])\n",
    "print(\"El último número es:\",y[-1])    "
   ]
  },
  {
   "cell_type": "code",
   "execution_count": 7,
   "metadata": {},
   "outputs": [
    {
     "data": {
      "text/plain": [
       "[0, 1, 2, 3, 4, 5, 6]"
      ]
     },
     "execution_count": 7,
     "metadata": {},
     "output_type": "execute_result"
    }
   ],
   "source": [
    "list(range(7))"
   ]
  },
  {
   "cell_type": "code",
   "execution_count": 13,
   "metadata": {},
   "outputs": [
    {
     "name": "stdout",
     "output_type": "stream",
     "text": [
      "( 0 , 0 )\n",
      "( 0 , 1 )\n",
      "( 0 , 2 )\n",
      "( 0 , 3 )\n",
      "( 0 , 4 )\n",
      "( 1 , 0 )\n",
      "( 1 , 1 )\n",
      "( 1 , 2 )\n",
      "( 1 , 3 )\n",
      "( 1 , 4 )\n",
      "( 2 , 0 )\n",
      "( 2 , 1 )\n",
      "( 2 , 2 )\n",
      "( 2 , 3 )\n",
      "( 2 , 4 )\n",
      "( 3 , 0 )\n",
      "( 3 , 1 )\n",
      "( 3 , 2 )\n",
      "( 3 , 3 )\n",
      "( 3 , 4 )\n"
     ]
    }
   ],
   "source": [
    "for i in range(4):\n",
    "    for j in range(5):\n",
    "        print(\"(\",i,\",\",j,\")\")\n"
   ]
  },
  {
   "cell_type": "code",
   "execution_count": 23,
   "metadata": {},
   "outputs": [
    {
     "data": {
      "image/png": "[encoded data removed]",
      "text/plain": [
       "<Figure size 432x288 with 1 Axes>"
      ]
     },
     "metadata": {
      "needs_background": "light"
     },
     "output_type": "display_data"
    }
   ],
   "source": [
    "import matplotlib.pyplot as plt\n",
    "x=[1000]\n",
    "for i in range(300):\n",
    "    x.append(1.05*x[i])\n",
    "plt.plot(x)    \n",
    "plt.show()"
   ]
  },
  {
   "cell_type": "markdown",
   "metadata": {},
   "source": []
  },
  {
   "cell_type": "markdown",
   "metadata": {},
   "source": [
    "# Funciones\n",
    "\n",
    "Definindo funcönes"
   ]
  },
  {
   "cell_type": "code",
   "execution_count": 25,
   "metadata": {},
   "outputs": [],
   "source": [
    "def f(c):\n",
    "    return 1.01*c"
   ]
  },
  {
   "cell_type": "code",
   "execution_count": 26,
   "metadata": {},
   "outputs": [
    {
     "data": {
      "text/plain": [
       "102.01"
      ]
     },
     "execution_count": 26,
     "metadata": {},
     "output_type": "execute_result"
    }
   ],
   "source": [
    "f(f(100))"
   ]
  },
  {
   "cell_type": "code",
   "execution_count": 27,
   "metadata": {},
   "outputs": [],
   "source": [
    "def fib(n):\n",
    "    if n == 0:\n",
    "        return 1\n",
    "    elif n== 1:\n",
    "        return 1\n",
    "    else:\n",
    "        return fib(n-1)+fib(n-2)\n",
    "            "
   ]
  },
  {
   "cell_type": "code",
   "execution_count": 28,
   "metadata": {},
   "outputs": [
    {
     "data": {
      "text/plain": [
       "(1, 8, 89)"
      ]
     },
     "execution_count": 28,
     "metadata": {},
     "output_type": "execute_result"
    }
   ],
   "source": [
    "fib(0),fib(5),fib(10)"
   ]
  },
  {
   "cell_type": "markdown",
   "metadata": {},
   "source": [
    "## Diccionarios\n",
    "\n",
    "Estructura de datos más general que una lista"
   ]
  },
  {
   "cell_type": "code",
   "execution_count": 30,
   "metadata": {},
   "outputs": [],
   "source": [
    "prim_parcial={\"The Undertaker\":9,\"John Cena\":10,\"CR\":7}"
   ]
  },
  {
   "cell_type": "code",
   "execution_count": 32,
   "metadata": {},
   "outputs": [
    {
     "data": {
      "text/plain": [
       "7"
      ]
     },
     "execution_count": 32,
     "metadata": {},
     "output_type": "execute_result"
    }
   ],
   "source": [
    "prim_parcial[\"CR\"]"
   ]
  },
  {
   "cell_type": "code",
   "execution_count": 33,
   "metadata": {},
   "outputs": [
    {
     "data": {
      "text/plain": [
       "10"
      ]
     },
     "execution_count": 33,
     "metadata": {},
     "output_type": "execute_result"
    }
   ],
   "source": [
    "prim_parcial[\"John Cena\"]"
   ]
  },
  {
   "cell_type": "code",
   "execution_count": null,
   "metadata": {},
   "outputs": [],
   "source": []
  }
 ],
 "metadata": {
  "kernelspec": {
   "display_name": "Python 3",
   "language": "python",
   "name": "python3"
  },
  "language_info": {
   "codemirror_mode": {
    "name": "ipython",
    "version": 3
   },
   "file_extension": ".py",
   "mimetype": "text/x-python",
   "name": "python",
   "nbconvert_exporter": "python",
   "pygments_lexer": "ipython3",
   "version": "3.7.0"
  }
 },
 "nbformat": 4,
 "nbformat_minor": 2
}
